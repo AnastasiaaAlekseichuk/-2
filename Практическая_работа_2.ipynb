{
  "nbformat": 4,
  "nbformat_minor": 0,
  "metadata": {
    "colab": {
      "name": "Практическая работа 2",
      "provenance": [],
      "collapsed_sections": []
    },
    "kernelspec": {
      "name": "python3",
      "display_name": "Python 3"
    }
  },
  "cells": [
    {
      "cell_type": "code",
      "metadata": {
        "id": "MHP0dYkkQEun",
        "outputId": "19f99e4c-7734-4dea-839f-79c3ffa8df65",
        "colab": {
          "base_uri": "https://localhost:8080/",
          "height": 272
        }
      },
      "source": [
        "class SpaceShip:\n",
        "    def __init__(self):\n",
        "       self.hp = 100\n",
        "       self.speed = 13000\n",
        "       self.crew = 64\n",
        "       self.power_reserve = 56000\n",
        "\n",
        "    def __str__(self):\n",
        "       return \"SpaceShip: {}; {}; {}; {}\".format(self.hp, self.speed, self.crew, self.power_reserve)\n",
        "\n",
        "    def draw(self):\n",
        "        print('+-|--------|-+')\n",
        "        print('+     ПП     +')\n",
        "        print('+     ПП     +')\n",
        "        print('+--П------П--+')\n",
        "\n",
        "class StarDestroyer(SpaceShip):\n",
        "    def __init__(self):\n",
        "       super().__init__()\n",
        "       self.shields = 100\n",
        "       self.shields_enabled = False\n",
        "       self.weapons = [100]*15\n",
        "\n",
        "    def __str__(self):\n",
        "       return \"StarDestroyer: {}; {};\".format(self.shields, self.weapons)  \n",
        "    def shields_on(self):\n",
        "       self.shields_enabled = False\n",
        "    def hit(self):\n",
        "       if self.shields_enabled:\n",
        "         self.shields -= 10\n",
        "       else: \n",
        "         self.hp -= 10\n",
        "    def draw (self):\n",
        "      print(\"       /\\       \")\n",
        "      print(\"      /  \\      \")\n",
        "      print(\"     /    \\     \")\n",
        "      print(\"    /  | | \\    \")\n",
        "      print(\"   /        \\   \")\n",
        "      print(\"  /   /..\\   \\  \")\n",
        "      print(\" /   +----+   \\ \")\n",
        "      print(\"+---+-+--+-+---+\")\n",
        "      print(\"    |_|  |_|    \")\n",
        "\n",
        "SpaceShip1 = SpaceShip()\n",
        "StarDestroyer1 = StarDestroyer()\n",
        "\n",
        "print(StarDestroyer1.draw())\n",
        "print(SpaceShip1.draw())"
      ],
      "execution_count": null,
      "outputs": [
        {
          "output_type": "stream",
          "text": [
            "       /\\       \n",
            "      /  \\      \n",
            "     /    \\     \n",
            "    /  | | \\    \n",
            "   /        \\   \n",
            "  /   /..\\   \\  \n",
            " /   +----+   \\ \n",
            "+---+-+--+-+---+\n",
            "    |_|  |_|    \n",
            "None\n",
            "+-|--------|-+\n",
            "+     ПП     +\n",
            "+     ПП     +\n",
            "+--П------П--+\n",
            "None\n"
          ],
          "name": "stdout"
        }
      ]
    },
    {
      "cell_type": "markdown",
      "metadata": {
        "id": "JAIo9ITseKhN"
      },
      "source": [
        "Задание 1"
      ]
    },
    {
      "cell_type": "code",
      "metadata": {
        "id": "dRtseF8WbAYn",
        "outputId": "6cda3ec3-6452-40c2-c58c-3b5792390d45",
        "colab": {
          "base_uri": "https://localhost:8080/",
          "height": 85
        }
      },
      "source": [
        "class First:\n",
        "      color = \"red\"\n",
        "      def out(self):\n",
        "          print(self.color +\"!\")\n",
        "obj1 = First()\n",
        "obj2 = First()\n",
        "\n",
        "print(obj1.color)\n",
        "print(obj2.color)\n",
        "obj1.out()\n",
        "obj2.out()\n"
      ],
      "execution_count": null,
      "outputs": [
        {
          "output_type": "stream",
          "text": [
            "red\n",
            "red\n",
            "red!\n",
            "red!\n"
          ],
          "name": "stdout"
        }
      ]
    },
    {
      "cell_type": "markdown",
      "metadata": {
        "id": "IpP1wjgZfNkA"
      },
      "source": [
        "Задание 2"
      ]
    },
    {
      "cell_type": "code",
      "metadata": {
        "id": "4J32V2sBfQdG",
        "outputId": "a47dd0f1-855a-4094-baff-08d995623071",
        "colab": {
          "base_uri": "https://localhost:8080/",
          "height": 85
        }
      },
      "source": [
        "class Second:\n",
        "      color = \"red\"\n",
        "      form = \"Circle\"\n",
        "      def changecolor(self, newcolor):\n",
        "           self.color = newcolor\n",
        "      def changeform(self, newform):\n",
        "           self.form = newform\n",
        "obj1 = Second()\n",
        "obj2 = Second()\n",
        "\n",
        "print(obj1.color, obj1.form)\n",
        "print(obj2.color, obj2.form)\n",
        "\n",
        "obj1.changecolor(\"green\")\n",
        "obj2.changecolor(\"blue\")\n",
        "obj2.changeform(\"oval\")\n",
        "\n",
        "print(obj1.color, obj1.form)\n",
        "print(obj2.color, obj2.form)\n"
      ],
      "execution_count": null,
      "outputs": [
        {
          "output_type": "stream",
          "text": [
            "red Circle\n",
            "red Circle\n",
            "green Circle\n",
            "blue oval\n"
          ],
          "name": "stdout"
        }
      ]
    },
    {
      "cell_type": "markdown",
      "metadata": {
        "id": "PYJkRLOEhc_s"
      },
      "source": [
        "Практическая работа(1)"
      ]
    },
    {
      "cell_type": "code",
      "metadata": {
        "id": "67-EuYS2hiyn",
        "outputId": "2cb4834d-382c-400e-a0b1-12ab1d9c2a6c",
        "colab": {
          "base_uri": "https://localhost:8080/",
          "height": 119
        }
      },
      "source": [
        "class Second:\n",
        "      color = \"red\"\n",
        "      form = \"Circle\"\n",
        "      age = \"26\"\n",
        "\n",
        "      def changecolor(self, newcolor):\n",
        "           self.color = newcolor\n",
        "      def changeform(self, newform):\n",
        "           self.form = newform\n",
        "      def changeage(self, newage):\n",
        "           self.age = newage\n",
        "\n",
        "obj1 = Second()\n",
        "obj2 = Second()\n",
        "obj3 = Second()\n",
        "\n",
        "print(obj1.color, obj1.form)\n",
        "print(obj2.color, obj2.form)\n",
        "print(obj3.color, obj3.form)\n",
        "\n",
        "obj1.changecolor(\"green\")\n",
        "obj2.changecolor(\"blue\")\n",
        "obj2.changeform(\"oval\")\n",
        "obj3.changeage(\"37\")\n",
        "\n",
        "print(obj1.color, obj1.form)\n",
        "print(obj2.color, obj2.form)\n",
        "print(obj3.age)\n"
      ],
      "execution_count": null,
      "outputs": [
        {
          "output_type": "stream",
          "text": [
            "red Circle\n",
            "red Circle\n",
            "red Circle\n",
            "green Circle\n",
            "blue oval\n",
            "37\n"
          ],
          "name": "stdout"
        }
      ]
    },
    {
      "cell_type": "markdown",
      "metadata": {
        "id": "hnmgWZ6XjdMn"
      },
      "source": [
        "Практическая работа (2)"
      ]
    },
    {
      "cell_type": "code",
      "metadata": {
        "id": "Zf6lLDDoj-cy",
        "outputId": "460d8388-a7c0-47cb-e3e6-024eac6694a1",
        "colab": {
          "base_uri": "https://localhost:8080/",
          "height": 68
        }
      },
      "source": [
        "from math import sqrt\n",
        "class Point:\n",
        "     def __init__(self, x, y):\n",
        "         self.x = x\n",
        "         self.y = y\n",
        "         \n",
        "     def __str__(self):\n",
        "         return 'Point ({}; {})'.format(self.x, self.y)    \n",
        "\n",
        "class Triangle:\n",
        "     def __init__(self, x1, y1, x2, y2, x3, y3):\n",
        "         self.point1 = Point(x1, y1)\n",
        "         self.point2 = Point(x2, y2)\n",
        "         self.point3 = Point(x3, y3)\n",
        "\n",
        "     def perimeter(self):\n",
        "         l1 = sqrt((self.point2.x - self.point1.x)**2 + (self.point2.y - self.point1.y)**2)  \n",
        "         l2 = sqrt((self.point3.x - self.point2.x)**2 + (self.point3.y - self.point2.y)**2)  \n",
        "         l3 = sqrt((self.point3.x - self.point1.x)**2 + (self.point3.y - self.point1.y)**2)  \n",
        "         return l1 + l2 + l3\n",
        "\n",
        "     def changeCoordinates(self, newCoordinates):\n",
        "         self.point1.x -= newCoordinates.x\n",
        "         self.point1.y -= newCoordinates.y\n",
        "         self.point2.x -= newCoordinates.x\n",
        "         self.point2.y -= newCoordinates.y\n",
        "         self.point3.x -= newCoordinates.x\n",
        "         self.point3.y -= newCoordinates.y\n",
        "    \n",
        "    \n",
        "      \n",
        "triangle1 = Triangle(0, 0, 0, 4, 3, 0)\n",
        "print('Периметр треугольника:', triangle1.perimeter())\n",
        "\n",
        "point1 = Point(3, -2)\n",
        "print('Перед изменением системы координат:', triangle1.point1)\n",
        "triangle1.changeCoordinates(point1)\n",
        "print('После изменения системы координат:', triangle1.point1)\n"
      ],
      "execution_count": null,
      "outputs": [
        {
          "output_type": "stream",
          "text": [
            "Периметр треугольника: 12.0\n",
            "Перед изменением системы координат: Point (0; 0)\n",
            "После изменения системы координат: Point (-3; 2)\n"
          ],
          "name": "stdout"
        }
      ]
    },
    {
      "cell_type": "markdown",
      "metadata": {
        "id": "BBHWe3Z72DbO"
      },
      "source": [
        "Задание 3"
      ]
    },
    {
      "cell_type": "code",
      "metadata": {
        "id": "W6Assedq7AB8",
        "outputId": "16a81419-9297-418b-8b03-294d25d81957",
        "colab": {
          "base_uri": "https://localhost:8080/",
          "height": 51
        }
      },
      "source": [
        "class YesInit:\n",
        "  def __init__(self,one,two):\n",
        "    self.fname=one\n",
        "    self.sname=two\n",
        " \n",
        "obj1=YesInit(\"Petter\", \"Ok\")\n",
        " \n",
        "print(obj1.fname, obj1.sname)\n",
        "\n",
        "class NoInit:\n",
        "  def names(self,one,two):\n",
        "    self.fname=one\n",
        "    self.sname=two \n",
        " \n",
        "obj1=NoInit()\n",
        "obj1.names(\"Petter\", \"Ok\")\n",
        " \n",
        "print(obj1.fname, obj1.sname)"
      ],
      "execution_count": 4,
      "outputs": [
        {
          "output_type": "stream",
          "text": [
            "Petter Ok\n",
            "Petter Ok\n"
          ],
          "name": "stdout"
        }
      ]
    },
    {
      "cell_type": "markdown",
      "metadata": {
        "id": "Gaukv-9p7MYp"
      },
      "source": [
        "Задание 4"
      ]
    },
    {
      "cell_type": "code",
      "metadata": {
        "id": "sarFyr7X7XlP",
        "outputId": "913aaf05-8ba9-429b-ef75-0524b32038e0",
        "colab": {
          "base_uri": "https://localhost:8080/",
          "height": 85
        }
      },
      "source": [
        "class YesInit:\n",
        "  def __init__(self, one=\"noname\", two = \"nonametoo\"):\n",
        "    self.fname=one \n",
        "    self.sname=two\n",
        " \n",
        "obj1=YesInit(\"Sasha\", \"Tu\")\n",
        "obj2=YesInit()\n",
        "obj3=YesInit(\"Spartak\")\n",
        "obj4=YesInit(two=\"Harry\")\n",
        " \n",
        "print(obj1.fname, obj1.sname)\n",
        "print(obj2.fname, obj2.sname)\n",
        "print(obj3.fname, obj3.sname)\n",
        "print(obj4.fname, obj4.sname)"
      ],
      "execution_count": 3,
      "outputs": [
        {
          "output_type": "stream",
          "text": [
            "Sasha Tu\n",
            "noname nonametoo\n",
            "Spartak nonametoo\n",
            "noname Harry\n"
          ],
          "name": "stdout"
        }
      ]
    },
    {
      "cell_type": "markdown",
      "metadata": {
        "id": "pV9SG0fO7dWU"
      },
      "source": [
        "Задание 5"
      ]
    },
    {
      "cell_type": "code",
      "metadata": {
        "id": "5I4WjQcw7gM_",
        "outputId": "952d7829-54f8-4bb3-cbc3-fcdd0d8a116b",
        "colab": {
          "base_uri": "https://localhost:8080/",
          "height": 51
        }
      },
      "source": [
        "class fruits:\n",
        "  def __init__(self,w,n=0):\n",
        "    self.what=w\n",
        "    self.numbers=n\n",
        " \n",
        "f1=fruits(\"apple\",150)\n",
        "f2=fruits(\"pineapple\")\n",
        "  \n",
        "print(f1.what,f1.numbers)\n",
        "print(f2.what,f2.numbers)"
      ],
      "execution_count": 5,
      "outputs": [
        {
          "output_type": "stream",
          "text": [
            "apple 150\n",
            "pineapple 0\n"
          ],
          "name": "stdout"
        }
      ]
    },
    {
      "cell_type": "markdown",
      "metadata": {
        "id": "zNaouJHr7riq"
      },
      "source": [
        "Задание 6"
      ]
    },
    {
      "cell_type": "code",
      "metadata": {
        "id": "Mu9qulXW2J1H",
        "outputId": "a5a4cfb7-6008-47b0-d31d-74f0f42ebee8",
        "colab": {
          "base_uri": "https://localhost:8080/",
          "height": 85
        }
      },
      "source": [
        "class Building:\n",
        "     def __init__(self, w, c, n=0):\n",
        "         self.what = w\n",
        "         self.color = c\n",
        "         self.numbers = n\n",
        "         self.mwhere(n)\n",
        "\n",
        "     def mwhere(self, n):\n",
        "         if n <= 0:\n",
        "              self.where = \"отсутствуют\"\n",
        "         elif 0 < n < 100:\n",
        "              self.where = \"малый склад\"\n",
        "         else:\n",
        "              self.where = \"основной склад\"\n",
        "\n",
        "     def plus(self, p):\n",
        "          self.numbers = self.numbers + p\n",
        "          self.mwhere(self.numbers)  \n",
        "\n",
        "     def minus(self, m):\n",
        "          self.numbers = self.numbers - m\n",
        "          self.mwhere(self.numbers)                        \n",
        "\n",
        "m1 = Building(\"доски\", \"белые\", 50)\n",
        "m2 = Building(\"доски\", \"коричневые\", 300)\n",
        "m3 = Building(\"кирпичи\", \"белые\")\n",
        "\n",
        "print(m1.what,m1.color,m1.where)\n",
        "print(m2.what,m2.color,m2.where)\n",
        "print(m3.what,m3.color,m3.where)\n",
        "\n",
        "m1.plus(500)\n",
        "print(m1.numbers, m1.where)\n",
        "\n",
        "\n"
      ],
      "execution_count": null,
      "outputs": [
        {
          "output_type": "stream",
          "text": [
            "доски белые малый склад\n",
            "доски коричневые основной склад\n",
            "кирпичи белые отсутствуют\n",
            "550 основной склад\n"
          ],
          "name": "stdout"
        }
      ]
    },
    {
      "cell_type": "markdown",
      "metadata": {
        "id": "VfRvin-Em9ME"
      },
      "source": [
        "Практическая работа (3)"
      ]
    },
    {
      "cell_type": "code",
      "metadata": {
        "id": "S5e2NJGNnCcP",
        "outputId": "1d5f20d8-d659-4136-a2be-b0ad80d1f833",
        "colab": {
          "base_uri": "https://localhost:8080/"
        }
      },
      "source": [
        "class Student:\n",
        "    def __init__(self, name, group, age):\n",
        "        self.name = name\n",
        "        self.group = group\n",
        "        self.age = age\n",
        "\n",
        "student1 = Student('Иван', 'МФ', '18')\n",
        "student2 = Student('Алексей', 'МАТ', '20')\n",
        "student3 = Student('Марта', 'ИНФ', '19')\n",
        "\n",
        "print(student1.name, student1.group, student1.age)\n",
        "print(student2.name, student2.group, student2.age)\n",
        "print(student3.name, student3.group, student3.age)\n",
        "\n"
      ],
      "execution_count": null,
      "outputs": [
        {
          "output_type": "stream",
          "text": [
            "Иван МФ 18\n",
            "Алексей МАТ 20\n",
            "Марта ИНФ 19\n"
          ],
          "name": "stdout"
        }
      ]
    },
    {
      "cell_type": "markdown",
      "metadata": {
        "id": "mVunFSBKsREd"
      },
      "source": [
        "Задание 7"
      ]
    },
    {
      "cell_type": "code",
      "metadata": {
        "id": "d5Dqg_PbsUkF",
        "outputId": "c1fa3d02-be85-4aab-bb16-6387073ac241",
        "colab": {
          "base_uri": "https://localhost:8080/"
        }
      },
      "source": [
        "class Things:\n",
        "    def __init__(self, n, t):\n",
        "        self.namething = n\n",
        "        self.total = t\n",
        "\n",
        "th1 = Things('table', 5)\n",
        "th2 = Things('computer', 7)\n",
        "\n",
        "print(th1.namething, th1.total)\n",
        "print(th2.namething, th2.total)\n",
        "\n",
        "th1.color = \"green\"\n",
        "th2.color = \"blue\"\n",
        "\n",
        "print(th1.color)\n",
        "print(th2.color)"
      ],
      "execution_count": null,
      "outputs": [
        {
          "output_type": "stream",
          "text": [
            "table 5\n",
            "computer 7\n",
            "green\n",
            "blue\n"
          ],
          "name": "stdout"
        }
      ]
    },
    {
      "cell_type": "markdown",
      "metadata": {
        "id": "Y1-Z_Zol2D4j"
      },
      "source": [
        "Задание 8"
      ]
    },
    {
      "cell_type": "code",
      "metadata": {
        "id": "1qvz3Z7r2GlP",
        "outputId": "a4039de9-cd0c-4570-def1-713178a18efb",
        "colab": {
          "base_uri": "https://localhost:8080/",
          "height": 68
        }
      },
      "source": [
        "class Table:\n",
        "    def __init__(self, l, w, h):\n",
        "        self.long = l\n",
        "        self.width = w\n",
        "        self.height = h\n",
        "\n",
        "    def outing(self):\n",
        "        print(self.long, self.width, self.height)  \n",
        "\n",
        "\n",
        "class Kitchen(Table):\n",
        "    def howplaces(self, n):\n",
        "        if n < 2:\n",
        "            print('It is not kitchen table')\n",
        "        else:\n",
        "            self.places = n\n",
        "    def outplaces(self):\n",
        "        print(self.places)\n",
        "\n",
        "t_room1 = Kitchen(2, 1, 0, 5)\n",
        "t_room1.outing()\n",
        "t_room1.howplaces(5)\n",
        "t_room1.outplaces()\n",
        "\n",
        "t_2 = Table(1, 3, 0, 7)\n",
        "t_2.outing()\n",
        "t_2.howplaces(8) #ошибка\n"
      ],
      "execution_count": 10,
      "outputs": [
        {
          "output_type": "stream",
          "text": [
            "2 1 5\n",
            "5\n",
            "1 3 7\n"
          ],
          "name": "stdout"
        }
      ]
    },
    {
      "cell_type": "code",
      "metadata": {
        "id": "Sg8b3efjGLLi",
        "outputId": "117c4ab0-8673-4b8f-e9f5-09c045559d94",
        "colab": {
          "base_uri": "https://localhost:8080/",
          "height": 136
        }
      },
      "source": [
        "class Table:\n",
        "    def __init__(self, l, w, h):\n",
        "        self.long = l\n",
        "        self.width = w\n",
        "        self.height = h\n",
        "\n",
        "    def outing(self):\n",
        "        print(self.long, self.width, self.height)  \n",
        "\n",
        "\n",
        "class Kitchen(Table):\n",
        "    def howplaces(self, n):\n",
        "        if n < 2:\n",
        "            print('It is not kitchen table')\n",
        "        else:\n",
        "            self.places = n\n",
        "    def outplaces(self):\n",
        "        print(self.places)\n",
        "\n",
        "\n",
        "class Worker(Table):\n",
        "    def personal(self, height):\n",
        "        self.height = height\n",
        "        if height > 170:\n",
        "           print(\"High\")\n",
        "        else:   \n",
        "          print(\"Low\")\n",
        "\n",
        "    def outing(self): \n",
        "        print(self.height) \n",
        "\n",
        "    def salary(self, salary):\n",
        "        self.salary = salary\n",
        "        if salary > 100000:\n",
        "          print('High') \n",
        "        else:   \n",
        "          print(\"Low\") \n",
        "    def out(self): \n",
        "        print(self.salary)                    \n",
        "\n",
        "t_room1 = Kitchen(2, 1, 5)\n",
        "t_room1.outing()\n",
        "t_room1.howplaces(5)\n",
        "t_room1.outplaces()\n",
        "\n",
        "t_2 = Table(1, 3, 7)\n",
        "t_2.outing()\n",
        "\n",
        "t_3 = Worker(1, 3, 175)\n",
        "t_3.personal(175)\n",
        "t_3.outing()\n",
        "t_3.salary(60000)\n",
        "t_3.out()\n",
        "\n",
        "\n",
        "\n"
      ],
      "execution_count": 33,
      "outputs": [
        {
          "output_type": "stream",
          "text": [
            "2 1 5\n",
            "5\n",
            "1 3 7\n",
            "High\n",
            "175\n",
            "Low\n",
            "60000\n"
          ],
          "name": "stdout"
        }
      ]
    },
    {
      "cell_type": "markdown",
      "metadata": {
        "id": "ePiu3QYhJ69Q"
      },
      "source": [
        "Практическая работа (4)"
      ]
    },
    {
      "cell_type": "code",
      "metadata": {
        "id": "0ksrT5ESKLV8",
        "outputId": "8c9c6a70-3454-4fa5-b608-58a3969d50dc",
        "colab": {
          "base_uri": "https://localhost:8080/",
          "height": 102
        }
      },
      "source": [
        "class Figure:\n",
        "    color = \"white\"\n",
        "    def changecolor(self, newcolor):\n",
        "           self.color = newcolor\n",
        "\n",
        "class Oval(Figure):\n",
        "    def __init__(self, a, b):\n",
        "        self.a = a\n",
        "        self.b = b\n",
        "    def outing(self):\n",
        "        print(self.a, self.b)\n",
        "\n",
        "class Square(Figure):\n",
        "    def __init__(self, a): \n",
        "        self.a = a  \n",
        "    def outing(self):\n",
        "        print(self.a)    \n",
        "\n",
        "f_1 = Oval(4, 6)\n",
        "f_1.outing()\n",
        "f_2 = Square(5)\n",
        "f_2.outing()\n",
        "\n",
        "obj1 = Figure()\n",
        "print(obj1.color)\n",
        "obj1.changecolor(\"green\")\n",
        "print(obj1.color)\n",
        "\n",
        "print()"
      ],
      "execution_count": 17,
      "outputs": [
        {
          "output_type": "stream",
          "text": [
            "4 6\n",
            "5\n",
            "white\n",
            "green\n",
            "\n"
          ],
          "name": "stdout"
        }
      ]
    }
  ]
}